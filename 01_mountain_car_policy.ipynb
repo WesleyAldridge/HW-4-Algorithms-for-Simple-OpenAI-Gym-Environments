{
 "cells": [
  {
   "cell_type": "markdown",
   "metadata": {},
   "source": [
    "## Imports"
   ]
  },
  {
   "cell_type": "code",
   "execution_count": 21,
   "metadata": {},
   "outputs": [],
   "source": [
    "import gym\n",
    "import tensorflow as tf\n",
    "import numpy as np\n",
    "\n",
    "%matplotlib inline\n",
    "import matplotlib.pyplot as plt\n",
    "\n",
    "import time"
   ]
  },
  {
   "cell_type": "markdown",
   "metadata": {},
   "source": [
    "## Environment"
   ]
  },
  {
   "cell_type": "code",
   "execution_count": 22,
   "metadata": {},
   "outputs": [
    {
     "name": "stdout",
     "output_type": "stream",
     "text": [
      "\u001b[33mWARN: gym.spaces.Box autodetected dtype as <class 'numpy.float32'>. Please provide explicit dtype.\u001b[0m\n"
     ]
    }
   ],
   "source": [
    "# Create the Mountain Car game environment\n",
    "env = gym.make('MountainCar-v0')"
   ]
  },
  {
   "cell_type": "markdown",
   "metadata": {},
   "source": [
    "## Running the explicit policy"
   ]
  },
  {
   "cell_type": "code",
   "execution_count": 38,
   "metadata": {},
   "outputs": [
    {
     "name": "stdout",
     "output_type": "stream",
     "text": [
      "took  122  steps\n",
      "took  122  steps\n",
      "took  114  steps\n",
      "took  114  steps\n",
      "took  121  steps\n",
      "took  121  steps\n",
      "took  122  steps\n",
      "took  115  steps\n",
      "took  124  steps\n",
      "took  122  steps\n",
      "took  122  steps\n",
      "took  121  steps\n",
      "took  114  steps\n",
      "took  121  steps\n",
      "took  123  steps\n",
      "took  122  steps\n",
      "took  120  steps\n",
      "took  114  steps\n",
      "took  117  steps\n",
      "took  124  steps\n",
      "average performance:  119.75\n"
     ]
    }
   ],
   "source": [
    "lengths = []\n",
    "\n",
    "right = 2\n",
    "left = 0\n",
    "\n",
    "for episode in range(20):\n",
    "    observation = env.reset()\n",
    "    done = False\n",
    "    steps = 0\n",
    "\n",
    "    while not done:\n",
    "        steps += 1\n",
    "        #env.render()\n",
    "        #time.sleep(0.03)\n",
    "        velocity = observation[1]\n",
    "        action = right if velocity >= 0 else left\n",
    "        observation, reward, done, info = env.step(action)\n",
    "\n",
    "        if done:\n",
    "            print(\"took \", steps, \" steps\")\n",
    "            lengths.append(steps)\n",
    "\n",
    "env.close()\n",
    "print(\"average performance: \", sum(lengths)/len(lengths))"
   ]
  },
  {
   "cell_type": "markdown",
   "metadata": {},
   "source": [
    "## Visualizing performance"
   ]
  },
  {
   "cell_type": "code",
   "execution_count": 36,
   "metadata": {},
   "outputs": [
    {
     "data": {
      "text/plain": [
       "Text(0,0.5,'Total Steps Required')"
      ]
     },
     "execution_count": 36,
     "metadata": {},
     "output_type": "execute_result"
    },
    {
     "data": {
      "image/png": "[encoded data removed]",
      "text/plain": [
       "<Figure size 432x288 with 1 Axes>"
      ]
     },
     "metadata": {},
     "output_type": "display_data"
    }
   ],
   "source": [
    "plt.plot(lengths)\n",
    "plt.axis([0, len(lengths), 0, 200]) # xmin, xmax, ymin, ymax\n",
    "plt.xlabel('Episode')\n",
    "plt.ylabel('Total Steps Required')"
   ]
  }
 ],
 "metadata": {
  "kernelspec": {
   "display_name": "Python 3",
   "language": "python",
   "name": "python3"
  },
  "language_info": {
   "codemirror_mode": {
    "name": "ipython",
    "version": 3
   },
   "file_extension": ".py",
   "mimetype": "text/x-python",
   "name": "python",
   "nbconvert_exporter": "python",
   "pygments_lexer": "ipython3",
   "version": "3.6.5"
  }
 },
 "nbformat": 4,
 "nbformat_minor": 2
}
