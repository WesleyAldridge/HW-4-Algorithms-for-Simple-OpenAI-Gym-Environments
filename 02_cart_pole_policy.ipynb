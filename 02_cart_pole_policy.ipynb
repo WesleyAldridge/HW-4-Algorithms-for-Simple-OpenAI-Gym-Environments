{
 "cells": [
  {
   "cell_type": "markdown",
   "metadata": {},
   "source": [
    "# Cart Pole\n",
    "\n",
    "## Imports"
   ]
  },
  {
   "cell_type": "code",
   "execution_count": 61,
   "metadata": {},
   "outputs": [],
   "source": [
    "import gym\n",
    "import tensorflow as tf\n",
    "import numpy as np\n",
    "\n",
    "%matplotlib inline\n",
    "import matplotlib.pyplot as plt\n",
    "\n",
    "import time"
   ]
  },
  {
   "cell_type": "markdown",
   "metadata": {},
   "source": [
    "## Environment"
   ]
  },
  {
   "cell_type": "code",
   "execution_count": 62,
   "metadata": {},
   "outputs": [
    {
     "data": {
      "text/plain": [
       "array([ 0.02179295, -0.02534292, -0.01158279, -0.01352997])"
      ]
     },
     "execution_count": 62,
     "metadata": {},
     "output_type": "execute_result"
    }
   ],
   "source": [
    "# Create the Cart-Pole game environment\n",
    "env = gym.make('CartPole-v1')\n",
    "env.reset()"
   ]
  },
  {
   "cell_type": "markdown",
   "metadata": {},
   "source": [
    "## Cartpole explicit policy"
   ]
  },
  {
   "cell_type": "code",
   "execution_count": 65,
   "metadata": {},
   "outputs": [
    {
     "name": "stdout",
     "output_type": "stream",
     "text": [
      "took  234  steps\n",
      "took  215  steps\n",
      "took  193  steps\n",
      "took  161  steps\n",
      "took  206  steps\n",
      "took  208  steps\n",
      "took  244  steps\n",
      "took  176  steps\n",
      "took  243  steps\n",
      "took  146  steps\n",
      "took  231  steps\n",
      "took  147  steps\n",
      "took  145  steps\n",
      "took  255  steps\n",
      "took  186  steps\n",
      "took  252  steps\n",
      "took  159  steps\n",
      "took  153  steps\n",
      "took  137  steps\n",
      "took  190  steps\n",
      "took  178  steps\n",
      "took  168  steps\n",
      "took  188  steps\n",
      "took  233  steps\n",
      "took  202  steps\n",
      "took  151  steps\n",
      "took  161  steps\n",
      "took  154  steps\n",
      "took  238  steps\n",
      "took  284  steps\n",
      "took  218  steps\n",
      "took  221  steps\n",
      "took  211  steps\n",
      "took  185  steps\n",
      "took  225  steps\n",
      "took  225  steps\n",
      "took  181  steps\n",
      "took  278  steps\n",
      "took  231  steps\n",
      "took  207  steps\n",
      "took  203  steps\n",
      "took  145  steps\n",
      "took  186  steps\n",
      "took  222  steps\n",
      "took  226  steps\n",
      "took  274  steps\n",
      "took  208  steps\n",
      "took  218  steps\n",
      "took  157  steps\n",
      "took  136  steps\n",
      "took  208  steps\n",
      "took  177  steps\n",
      "took  166  steps\n",
      "took  211  steps\n",
      "took  234  steps\n",
      "took  160  steps\n",
      "took  245  steps\n",
      "took  174  steps\n",
      "took  189  steps\n",
      "took  151  steps\n",
      "took  220  steps\n",
      "took  204  steps\n",
      "took  242  steps\n",
      "took  224  steps\n",
      "took  187  steps\n",
      "took  187  steps\n",
      "took  157  steps\n",
      "took  162  steps\n",
      "took  216  steps\n",
      "took  192  steps\n",
      "took  258  steps\n",
      "took  265  steps\n",
      "took  140  steps\n",
      "took  148  steps\n",
      "took  153  steps\n",
      "took  151  steps\n",
      "took  168  steps\n",
      "took  211  steps\n",
      "took  222  steps\n",
      "took  218  steps\n",
      "took  221  steps\n",
      "took  234  steps\n",
      "took  231  steps\n",
      "took  161  steps\n",
      "took  175  steps\n",
      "took  174  steps\n",
      "took  214  steps\n",
      "took  210  steps\n",
      "took  236  steps\n",
      "took  230  steps\n",
      "took  162  steps\n",
      "took  144  steps\n",
      "took  147  steps\n",
      "took  164  steps\n",
      "took  224  steps\n",
      "took  291  steps\n",
      "took  223  steps\n",
      "took  153  steps\n",
      "took  230  steps\n",
      "took  214  steps\n",
      "average performance:  198.73\n"
     ]
    }
   ],
   "source": [
    "lengths = []\n",
    "\n",
    "right = 1\n",
    "left = 0\n",
    "\n",
    "\n",
    "# Considered solved when the average reward is greater than or equal to 195.0 over 100 consecutive trials.\n",
    "for episode in range(100):\n",
    "    observation = env.reset()\n",
    "    done = False\n",
    "    steps = 0\n",
    "\n",
    "    while not done:\n",
    "        steps += 1\n",
    "        #env.render()\n",
    "        #time.sleep(0.1)\n",
    "        car_position = observation[0] # between -2.4 and 2.4\n",
    "        car_velocity = observation[1]\n",
    "        pole_angle = observation[2]\n",
    "        pole_velocity = observation[3]\n",
    "        action = right if pole_velocity >= 0 else left\n",
    "        \n",
    "        observation, reward, done, info = env.step(action)\n",
    "\n",
    "        if done:\n",
    "            print(\"took \", steps, \" steps\")\n",
    "            lengths.append(steps)\n",
    "env.close()\n",
    "print(\"average performance: \", sum(lengths)/len(lengths))"
   ]
  },
  {
   "cell_type": "markdown",
   "metadata": {},
   "source": [
    "## Visualize data"
   ]
  },
  {
   "cell_type": "code",
   "execution_count": 66,
   "metadata": {},
   "outputs": [
    {
     "data": {
      "text/plain": [
       "Text(0,0.5,'Total Steps Survived')"
      ]
     },
     "execution_count": 66,
     "metadata": {},
     "output_type": "execute_result"
    },
    {
     "data": {
      "image/png": "[encoded data removed]",
      "text/plain": [
       "<Figure size 432x288 with 1 Axes>"
      ]
     },
     "metadata": {},
     "output_type": "display_data"
    }
   ],
   "source": [
    "plt.plot(lengths)\n",
    "plt.axis([0, len(lengths), 0, 300]) # xmin, xmax, ymin, ymax\n",
    "plt.xlabel('Episode')\n",
    "plt.ylabel('Total Steps Survived')"
   ]
  },
  {
   "cell_type": "code",
   "execution_count": null,
   "metadata": {},
   "outputs": [],
   "source": []
  }
 ],
 "metadata": {
  "kernelspec": {
   "display_name": "Python 3",
   "language": "python",
   "name": "python3"
  },
  "language_info": {
   "codemirror_mode": {
    "name": "ipython",
    "version": 3
   },
   "file_extension": ".py",
   "mimetype": "text/x-python",
   "name": "python",
   "nbconvert_exporter": "python",
   "pygments_lexer": "ipython3",
   "version": "3.6.5"
  }
 },
 "nbformat": 4,
 "nbformat_minor": 2
}
